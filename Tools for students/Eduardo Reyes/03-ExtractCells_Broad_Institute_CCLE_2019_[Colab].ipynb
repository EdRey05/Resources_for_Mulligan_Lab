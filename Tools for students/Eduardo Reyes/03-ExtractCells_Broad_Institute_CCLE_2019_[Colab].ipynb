{
  "nbformat": 4,
  "nbformat_minor": 0,
  "metadata": {
    "colab": {
      "provenance": [],
      "collapsed_sections": [
        "-7ysH-MIGHST",
        "V3Cm8TcRGgcV",
        "DXQ7gpTxIq1H",
        "K5RP5mXgIefj",
        "b_QruoFls6pz",
        "dxAQxew0I3fb",
        "ClNv65NVbbyg",
        "uxmU3YwaxQdt"
      ],
      "authorship_tag": "ABX9TyPPVDdSMeiWBibLYASrQj/b",
      "include_colab_link": true
    },
    "kernelspec": {
      "name": "python3",
      "display_name": "Python 3"
    }
  },
  "cells": [
    {
      "cell_type": "markdown",
      "metadata": {
        "id": "view-in-github",
        "colab_type": "text"
      },
      "source": [
        "<a href=\"https://colab.research.google.com/github/EdRey05/Resources_for_Mulligan_Lab/blob/main/Tools%20for%20students/Eduardo%20Reyes/ExtractCells_Broad_Institute_CCLE_2019_%5BColab%5D.ipynb\" target=\"_parent\"><img src=\"https://colab.research.google.com/assets/colab-badge.svg\" alt=\"Open In Colab\"/></a>"
      ]
    },
    {
      "cell_type": "markdown",
      "metadata": {
        "id": "PAWt2popFuK9"
      },
      "source": [
        "#***Notebook to extract data from the Cancer Cell Line Encyclopedia 2019***\n",
        "\n",
        "**Original data from:** *Broad Institute and Novartis*\n",
        "\n",
        "**Publication DOI:** *10.1038/s41586-019-1186-3*\n",
        "\n",
        "**Data downloaded from:** *https://www.cbioportal.org/study/summary?id=ccle_broad_2019*\n",
        "\n",
        "**Notebook made by:** *Eduardo Reyes-Alvarez (Ph.D. candidate)*\n",
        "\n",
        "**Affiliation:** *Dr. Lois Mulligan's lab, Queen's University.*\n",
        "\n",
        "**Contact:** *eduardo_reyes09@hotmail.com*\n",
        "\n",
        "**Date of latest version:** February 04, 2021."
      ]
    },
    {
      "cell_type": "markdown",
      "metadata": {
        "id": "-7ysH-MIGHST"
      },
      "source": [
        "##Instructions"
      ]
    },
    {
      "cell_type": "markdown",
      "metadata": {
        "id": "3LBKloWAGQyW"
      },
      "source": [
        "* Before starting an analysis it is recommended to check the txt file containing Info and Metadata from the study used in this notebook (you will be asked to synchronize a Google Drive account where the inputs are to be able to use this notebook).\n",
        "\n",
        "* The study provides the RNASeq data of **only cancer cell lines** in 3 different units:\n",
        "  1.   mRNA expression (RNA-Seq RPKM)\n",
        "  2.   Log-transformed mRNA z-Scores compared to the expression distribution of all samples (log RNA-Seq RPKM)\n",
        "  3. mRNA expression z-Scores relative to diploid samples (RNA Seq RPKM)\n",
        "\n",
        "* Once you have decided what units you want, remember the number (1, 2 or 3). If you are not sure which one, you can use the option 1, which contains raw values.\n",
        "\n",
        "* Place your cursor in the grey box under the \"Code\" section (it says 13 cells hidden), a \"play\" button should appear, click on it. A \"stop\" icon will appear as it runs the code, once it finishes it will dissapear. \n",
        "\n",
        "* Place your cursor in the grey box under the \"Run your search\" section, a \"play\" button will appear, click on it and follow the instructions."
      ]
    },
    {
      "cell_type": "markdown",
      "metadata": {
        "id": "V3Cm8TcRGgcV"
      },
      "source": [
        "##Code\n",
        "\n"
      ]
    },
    {
      "cell_type": "markdown",
      "metadata": {
        "id": "DXQ7gpTxIq1H"
      },
      "source": [
        "###Import packages and directories"
      ]
    },
    {
      "cell_type": "code",
      "metadata": {
        "colab": {
          "base_uri": "https://localhost:8080/"
        },
        "id": "QLhFNujRmWDT",
        "outputId": "e6272885-0b24-4b62-de1f-341e9cbb87e7"
      },
      "source": [
        "import pandas as pd\n",
        "from IPython.display import clear_output\n",
        "\n",
        "!pip install XlsxWriter"
      ],
      "execution_count": null,
      "outputs": [
        {
          "output_type": "stream",
          "name": "stdout",
          "text": [
            "Collecting XlsxWriter\n",
            "  Downloading XlsxWriter-3.0.2-py3-none-any.whl (149 kB)\n",
            "\u001b[?25l\r\u001b[K     |██▏                             | 10 kB 25.6 MB/s eta 0:00:01\r\u001b[K     |████▍                           | 20 kB 29.0 MB/s eta 0:00:01\r\u001b[K     |██████▋                         | 30 kB 12.4 MB/s eta 0:00:01\r\u001b[K     |████████▊                       | 40 kB 9.6 MB/s eta 0:00:01\r\u001b[K     |███████████                     | 51 kB 5.2 MB/s eta 0:00:01\r\u001b[K     |█████████████▏                  | 61 kB 5.7 MB/s eta 0:00:01\r\u001b[K     |███████████████▎                | 71 kB 6.1 MB/s eta 0:00:01\r\u001b[K     |█████████████████▌              | 81 kB 6.8 MB/s eta 0:00:01\r\u001b[K     |███████████████████▊            | 92 kB 6.5 MB/s eta 0:00:01\r\u001b[K     |█████████████████████▉          | 102 kB 5.5 MB/s eta 0:00:01\r\u001b[K     |████████████████████████        | 112 kB 5.5 MB/s eta 0:00:01\r\u001b[K     |██████████████████████████▎     | 122 kB 5.5 MB/s eta 0:00:01\r\u001b[K     |████████████████████████████▍   | 133 kB 5.5 MB/s eta 0:00:01\r\u001b[K     |██████████████████████████████▋ | 143 kB 5.5 MB/s eta 0:00:01\r\u001b[K     |████████████████████████████████| 149 kB 5.5 MB/s \n",
            "\u001b[?25hInstalling collected packages: XlsxWriter\n",
            "Successfully installed XlsxWriter-3.0.2\n"
          ]
        }
      ]
    },
    {
      "cell_type": "code",
      "metadata": {
        "id": "Hw02Q5W0PQjk"
      },
      "source": [
        "#Directories of the 3 files available from the Broad Institute (different units of RNA expression)\n",
        "\n",
        "directory1 = \"/content/drive/MyDrive/Colab Notebooks/Mulligan Lab - PhD/RNASeq/Broad_Institute_CCLE/input_files/1-data_RNA_Seq_expression_median.txt\"\n",
        "directory2 = \"/content/drive/MyDrive/Colab Notebooks/Mulligan Lab - PhD/RNASeq/Broad_Institute_CCLE/input_files/2-data_RNA_Seq_mRNA_median_all_sample_Zscores.txt\"\n",
        "directory3 = \"/content/drive/MyDrive/Colab Notebooks/Mulligan Lab - PhD/RNASeq/Broad_Institute_CCLE/input_files/3-data_RNA_Seq_mRNA_median_Zscores.txt\"\n",
        "data_output_dir = \"/content/drive/MyDrive/Colab Notebooks/Mulligan Lab - PhD/RNASeq/Broad_Institute_CCLE/output_files\"\n"
      ],
      "execution_count": null,
      "outputs": []
    },
    {
      "cell_type": "markdown",
      "metadata": {
        "id": "K5RP5mXgIefj"
      },
      "source": [
        "###Function to validate inputs"
      ]
    },
    {
      "cell_type": "code",
      "metadata": {
        "id": "4AWtoA5OHpuh"
      },
      "source": [
        "#Input validation (type, min, max and range)\n",
        "#Modified from here: https://stackoverflow.com/questions/23294658/asking-the-user-for-input-until-they-give-a-valid-response\n",
        "\n",
        "def check_input(prompt, type_=None, min_=None, max_=None, range_=None):\n",
        "    if min_ is not None and max_ is not None and max_ < min_:\n",
        "        raise ValueError(\"min_ must be less than or equal to max_.\")\n",
        "    while True:\n",
        "        user_input = input(prompt)\n",
        "        if type_ is not None:\n",
        "            try:\n",
        "                user_input = type_(user_input)\n",
        "            except ValueError:\n",
        "                print(\"Input type must be {0}.\".format(type_.__name__))\n",
        "                continue\n",
        "        if max_ is not None and user_input > max_:\n",
        "            print(\"Input must be less than or equal to {0}.\".format(max_))\n",
        "        elif min_ is not None and user_input < min_:\n",
        "            print(\"Input must be greater than or equal to {0}.\".format(min_))\n",
        "        elif range_ is not None and user_input not in range_:\n",
        "            if isinstance(range_, range):\n",
        "                template = \"Input must be between {0.start} and {0.stop}.\"\n",
        "                print(template.format(range_))\n",
        "            else:\n",
        "                template = \"Input must be {0}.\"\n",
        "                if len(range_) == 1:\n",
        "                    print(template.format(*range_))\n",
        "                else:\n",
        "                    expected = \" or \".join((\n",
        "                        \", \".join(str(x) for x in range_[:-1]),\n",
        "                        str(range_[-1])\n",
        "                    ))\n",
        "                    print(template.format(expected))\n",
        "        else:\n",
        "            return user_input"
      ],
      "execution_count": null,
      "outputs": []
    },
    {
      "cell_type": "markdown",
      "metadata": {
        "id": "b_QruoFls6pz"
      },
      "source": [
        "###Function to select input file"
      ]
    },
    {
      "cell_type": "code",
      "metadata": {
        "id": "ij6ulG5DWv7Y"
      },
      "source": [
        "#Ask for RNA expression file to use, and read only the cell lines/column names\n",
        "\n",
        "def select_input_file ():\n",
        "\n",
        "  RNA_input = check_input(\"\\n Select the gene expression file to use (1, 2 or 3): \", int, range_=(1, 2, 3))\n",
        "  global directory\n",
        "  directory = directory1 if RNA_input==1 else directory2 if RNA_input==2 else directory3\n",
        "  cell_menu = pd.read_csv(directory, sep='\\t', header=0, nrows=0).columns.tolist()\n",
        "  cell_menu.remove(\"Hugo_Symbol\")\n",
        "\n",
        "  return cell_menu\n",
        " "
      ],
      "execution_count": null,
      "outputs": []
    },
    {
      "cell_type": "markdown",
      "metadata": {
        "id": "dxAQxew0I3fb"
      },
      "source": [
        "###Function to search for cell lines"
      ]
    },
    {
      "cell_type": "code",
      "metadata": {
        "id": "aKDLd0DWtSyX"
      },
      "source": [
        "def search_cells(cell_menu):\n",
        "\n",
        "  #Lists to store selected cell line names\n",
        "  keepcells_name = []\n",
        "\n",
        "  #Loop to search text keys\n",
        "  while True:\n",
        "    #Check if we want to continue of exit\n",
        "    continue_search = check_input(\"\\n Search for cell line? (Y/N) \", str, range_=(\"Y\", \"y\", \"N\", \"n\"))\n",
        "    if continue_search==\"N\" or continue_search==\"n\":\n",
        "      break\n",
        "    \n",
        "    #Get string of interest (we need a valid input to proceed)  \n",
        "    while True:\n",
        "      search_string = str(input(\"\\n Type term to search for: \"))\n",
        "      search_string = search_string.upper()\n",
        "      search_results = [cell for cell in cell_menu if search_string in cell]\n",
        "      \n",
        "      #Print columns that contain that string\n",
        "      if search_results==[]:\n",
        "        print(\"\\n Nothing was found! Try other term or a shorter version of it!\")\n",
        "      else:\n",
        "        search_results = [\"-\"] + search_results\n",
        "        break\n",
        "        \n",
        "    for i,cell in enumerate(search_results):\n",
        "          print(\" \\t \", i,cell)\n",
        "    \n",
        "    #Get index of cell line the user wants to extract and save its name\n",
        "    keepcells_index = check_input(\"\\n Number of cell line to keep (use 0 if none are needed):\", int, 0, len(search_results)-1)\n",
        "    if keepcells_index!=0:\n",
        "      keepcells_name.append(search_results[keepcells_index]) \n",
        "\n",
        "    #Clear output window before starting at the top of the loop again\n",
        "    clear_output(wait=True)\n",
        "\n",
        "  #Once the search is done, import all the columns selected by the user\n",
        "  #We add back the column containing the gene names (Hugo_Symbol) and sort gene names\n",
        "\n",
        "  keepcells_name = sorted(keepcells_name)\n",
        "  import_cells = [\"Hugo_Symbol\"] + keepcells_name\n",
        " \n",
        "  return import_cells"
      ],
      "execution_count": null,
      "outputs": []
    },
    {
      "cell_type": "markdown",
      "metadata": {
        "id": "ClNv65NVbbyg"
      },
      "source": [
        "###Function to finish analysis and save"
      ]
    },
    {
      "cell_type": "code",
      "metadata": {
        "id": "7OjycBgmbfkG"
      },
      "source": [
        "def end_analysis(extracted_data):\n",
        "  \n",
        "  if len(extracted_data.columns)>1:\n",
        "    print(\"\\n \\t Sample of your dataset: \\n\", extracted_data.sample(10))\n",
        "    save_file = check_input(\"\\n Save dataset? (Y/N)\", str, range_=(\"Y\", \"y\", \"N\", \"n\"))\n",
        "    \n",
        "    if save_file==\"Y\" or save_file==\"y\":\n",
        "      output_name = str(input(\"\\n Save file as: \"))\n",
        "    \n",
        "      global destination\n",
        "      destination = data_output_dir + \"/\" + output_name + \".xlsx\"\n",
        "      writer = pd.ExcelWriter(destination, engine='xlsxwriter')\n",
        "      extracted_data.to_excel(writer, sheet_name=output_name)\n",
        "      writer.save()\n",
        "  \n",
        "  new_search = check_input(\"\\n Start a new search? (Y/N)\", str, range_=(\"Y\", \"y\", \"N\", \"n\"))\n",
        "  new_search = True if new_search==\"Y\" or new_search==\"y\" else False\n",
        "  return new_search\n"
      ],
      "execution_count": null,
      "outputs": []
    },
    {
      "cell_type": "markdown",
      "metadata": {
        "id": "uxmU3YwaxQdt"
      },
      "source": [
        "###Main function"
      ]
    },
    {
      "cell_type": "code",
      "metadata": {
        "id": "Cco6uM-pU-9N"
      },
      "source": [
        "def Begin_Search_Here():\n",
        "\n",
        "  #This is needed when working in Google Colab to synchronize google drive\n",
        "  from google.colab import drive\n",
        "  drive.mount('/content/drive/')\n",
        "\n",
        "  while True:\n",
        "    cell_menu = select_input_file()\n",
        "    import_cells = search_cells(cell_menu)\n",
        "    \n",
        "    extracted_data = pd.read_csv(directory, sep='\\t', usecols=import_cells)\n",
        "    extracted_data = extracted_data.sort_values(\"Hugo_Symbol\")\n",
        "    extracted_data = extracted_data.reset_index(drop=True)\n",
        "    clear_output(wait=True)\n",
        "    \n",
        "    new_search = end_analysis(extracted_data)\n",
        "    if new_search==False:\n",
        "      print(\"\\n Process completed!\", \"\\n\\n To start a new analysis, run the Begin_Search_Here box again :) \")\n",
        "      break\n"
      ],
      "execution_count": null,
      "outputs": []
    },
    {
      "cell_type": "markdown",
      "metadata": {
        "id": "UjZAXGFIGnG1"
      },
      "source": [
        "##Run your search"
      ]
    },
    {
      "cell_type": "code",
      "metadata": {
        "id": "8fYY6u85nSA8",
        "colab": {
          "base_uri": "https://localhost:8080/"
        },
        "outputId": "2171a992-5365-485c-c92d-3d6dfbd5b6e6"
      },
      "source": [
        "#Run this code box to begin!\n",
        "Begin_Search_Here()"
      ],
      "execution_count": null,
      "outputs": [
        {
          "output_type": "stream",
          "name": "stdout",
          "text": [
            "\n",
            " \t Sample of your dataset: \n",
            "          Hugo_Symbol  MIAPACA2_PANCREAS  ...  TT_THYROID  DLD1_LARGE_INTESTINE\n",
            "36409  RP11-276M12.1            0.01839  ...     2.37423               0.00000\n",
            "39075   RP11-425A6.5            0.02247  ...     0.08701               0.00000\n",
            "11480  CTD-2196E14.9            1.33212  ...     2.45094               0.71639\n",
            "37579   RP11-343H5.4           30.09873  ...     3.07645              37.76643\n",
            "10793    CTC-297N7.5            0.57077  ...     0.17824               0.00000\n",
            "6918            ATL1            0.10348  ...     0.37566               1.52382\n",
            "22979      MIRLET7A1            0.00000  ...     0.00000               0.00000\n",
            "36948  RP11-308D16.1            0.00000  ...     0.00000               0.00000\n",
            "32701   RP1-130L23.1            0.00000  ...     0.00000               0.00000\n",
            "17422       HNRNPUL2           18.92155  ...    32.47757              32.01634\n",
            "\n",
            "[10 rows x 5 columns]\n",
            "\n",
            " Save dataset? (Y/N)y\n",
            "\n",
            " Save file as: TT-Miapaca-Panc1-DLD1\n",
            "\n",
            " Start a new search? (Y/N)n\n",
            "\n",
            " Process completed! \n",
            "\n",
            " To start a new analysis, run the Begin_Search_Here box again :) \n"
          ]
        }
      ]
    }
  ]
}
